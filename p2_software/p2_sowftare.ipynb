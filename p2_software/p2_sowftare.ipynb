{
 "cells": [
  {
   "cell_type": "markdown",
   "metadata": {},
   "source": [
    "# Filtering and Scaling Depth Data"
   ]
  },
  {
   "cell_type": "markdown",
   "metadata": {},
   "source": [
    "Congratulations on making it to this part of the project. Before we continue, lets review the overarching goals of Depth Mapping and how we plan on getting there."
   ]
  },
  {
   "cell_type": "markdown",
   "metadata": {},
   "source": [
    "First, we want to write a function that will take raw depth and RGB values from the Kinect and filter out the object we are trying to map.  For example, if we want to map a water bottle that is between 2 to 4 feet away from the Kinect, we want to filter out all depth values that are not within 2 to 4 feet.\n"
   ]
  },
  {
   "cell_type": "markdown",
   "metadata": {},
   "source": [
    "After we filter out data not in our bounds, we want to scale our data from its original size (640 x 480) into the size of our cube (6 x 6)."
   ]
  },
  {
   "cell_type": "markdown",
   "metadata": {},
   "source": [
    "We already learned how to write Kinect still frames into .csv files, and in this notebook we will first read the data into an array."
   ]
  },
  {
   "cell_type": "markdown",
   "metadata": {},
   "source": [
    "Import the math and numpy modules first:"
   ]
  },
  {
   "cell_type": "code",
   "execution_count": 236,
   "metadata": {},
   "outputs": [],
   "source": [
    "import math\n",
    "import numpy as np"
   ]
  },
  {
   "cell_type": "markdown",
   "metadata": {},
   "source": [
    "### Reading Depth Data"
   ]
  },
  {
   "cell_type": "markdown",
   "metadata": {},
   "source": [
    "Next, initialize an empty python list and read from depth_data.csv.  Notice how, in the for loop, we create a list for each line using line.split(',').  Each line in f is originally a string of numbers, for example: '878,877,657'.  line.split(',') creates a python list in the form \\['878', '877', '657'].  We then need to convert the string values into integers, which is where list comprehension becomes useful.  Given an example python list named 'list', \\[int(i) for i in list] will convert all of the values in 'list' to integers if possible.  (Lookup documentation for [File Input/Output](https://docs.python.org/3/tutorial/inputoutput.html) and [list comprehension](https://www.pythonforbeginners.com/basics/list-comprehensions-in-python) for more help)"
   ]
  },
  {
   "cell_type": "markdown",
   "metadata": {},
   "source": [
    "In the cell below, given an empty list depth_data, read the data that you wrote to a .csv file in the previous challenge into depth_data."
   ]
  },
  {
   "cell_type": "code",
   "execution_count": 237,
   "metadata": {},
   "outputs": [
    {
     "name": "stdout",
     "output_type": "stream",
     "text": "[[2047. 2047. 2047. ... 2047. 2047. 2047.]\n [2047. 2047. 2047. ... 2047. 2047. 2047.]\n [2047. 2047. 2047. ... 2047. 2047. 2047.]\n ...\n [2047. 2047. 2047. ... 2047. 2047. 2047.]\n [2047. 2047. 2047. ... 2047. 2047. 2047.]\n [2047. 2047. 2047. ... 2047. 2047. 2047.]]\n"
    }
   ],
   "source": [
    "depth_data = []\n",
    "depth_file = 'C:\\\\Users\\\\kevin\\\\Desktop\\\\ECE 196\\\\DepthMapping\\\\test\\\\test_Depth.csv'\n",
    "depth_data = np.loadtxt(depth_file, delimiter=',')\n",
    "print(depth_data)\n",
    "\n",
    "\n"
   ]
  },
  {
   "cell_type": "markdown",
   "metadata": {},
   "source": [
    "Check to make sure that the length of depth_data and the length of the first element of depth_data are 480 and 640, respectively.  These are the dimensions of the Kinect's camera.\n",
    "\n",
    "Example: \n",
    "\n",
    "len(depth_data) == 480\n",
    "\n",
    "len(depth_data[0]) == 640"
   ]
  },
  {
   "cell_type": "code",
   "execution_count": 238,
   "metadata": {},
   "outputs": [
    {
     "data": {
      "text/plain": "(480, 640)"
     },
     "execution_count": 238,
     "metadata": {},
     "output_type": "execute_result"
    }
   ],
   "source": [
    "depth_data.shape"
   ]
  },
  {
   "cell_type": "markdown",
   "metadata": {},
   "source": [
    "Create a variable 'raw_depth_data' to save the original values of depth_data before we filter the array."
   ]
  },
  {
   "cell_type": "code",
   "execution_count": 239,
   "metadata": {},
   "outputs": [],
   "source": [
    "raw_depth_data = np.copy(depth_data)"
   ]
  },
  {
   "cell_type": "markdown",
   "metadata": {},
   "source": [
    "### Filtering Algorithm"
   ]
  },
  {
   "cell_type": "markdown",
   "metadata": {},
   "source": [
    "Now that we have read our csv file into an array, we want to set bounds for the data we wish to see.  For example, if we want to visualize a water bottle that is between 3 and 5 feet from the Kinect, then we will only want to see data values between 3-5 feet to eliminate any background noise in the data.  Later on we will be visualizing our data and we will see the difference between the filtered and unfiltered data sets. "
   ]
  },
  {
   "cell_type": "markdown",
   "metadata": {},
   "source": [
    "At this point we will want depth_data to be a numpy array.  This will allow us to utilize an assortment of numpy functions that will make our algorithm more efficient.  If you are unfamiliar with numpy, refer to its documentation [here](https://docs.scipy.org/doc/numpy-1.16.1/reference/index.html) or check out our numpy tutorial."
   ]
  },
  {
   "cell_type": "markdown",
   "metadata": {},
   "source": [
    "We set our upper and lower depth bounds to values in feet that will capture the object we are trying to map."
   ]
  },
  {
   "cell_type": "code",
   "execution_count": 240,
   "metadata": {},
   "outputs": [],
   "source": [
    "ft_lo_depth = 2   # You can set these variables to different values\n",
    "ft_u_depth = 2.5"
   ]
  },
  {
   "cell_type": "markdown",
   "metadata": {},
   "source": [
    "Using the distance formula given earlier, convert the values from feet to 11-bit depth values and assign the result to variables lo_depth and u_depth."
   ]
  },
  {
   "cell_type": "code",
   "execution_count": 306,
   "metadata": {},
   "outputs": [
    {
     "name": "stdout",
     "output_type": "stream",
     "text": "1051.7669966158455\nlo_depth = 524.3055707994426\nu_depth = 635.8448362155896\n"
    }
   ],
   "source": [
    "def feet_to_raw(x):\n",
    "    x = x*0.3048\n",
    "    return ((5685/2)*math.atan((2500/309)*x) - 13488231/4000)\n",
    "lo_depth = feet_to_raw(ft_lo_depth)\n",
    "u_depth = feet_to_raw(ft_u_depth)\n",
    "print(feet_to_raw(28))\n",
    "print(f'lo_depth = {lo_depth}')\n",
    "print(f'u_depth = {u_depth}')\n",
    "\n"
   ]
  },
  {
   "cell_type": "code",
   "execution_count": 375,
   "metadata": {},
   "outputs": [],
   "source": [
    "def in_range(x):\n",
    "    if 524<=x<=635:\n",
    "        return 'True'\n",
    "    else:\n",
    "        return ''"
   ]
  },
  {
   "cell_type": "code",
   "execution_count": 380,
   "metadata": {},
   "outputs": [
    {
     "name": "stdout",
     "output_type": "stream",
     "text": "['' '' '' '' '' '' '' '' '' '' '' '' '' '' '' '' '' '' '' '' '' '' '' ''\n '' '' '' '' '' '' '' '' '' '' '' '' '' '' '' '' '' '' '' '' '' '' '' ''\n '' '' '' '' '' '' '' '' '' '' '' '' '' '' '' '' '' '' '' '' '' '' '' ''\n '' '' '' '' '' '' '' '' '' '' '' '' '' '' '' '' '' '' '' '' '' '' '' ''\n '' '' '' '' '' '' '' '' '' '' '' '' '' '' '' '' '' '' '' '' '' '' '' ''\n '' '' '' '' '' '' '' '' '' '' '' '' '' '' '' '' '' '' '' '' '' '' '' ''\n '' '' '' '' '' '' '' '' '' '' '' '' '' '' '' '' '' '' '' '' '' '' '' ''\n '' '' '' '' '' '' '' '' '' '' '' '' '' '' '' '' '' '' '' '' '' '' '' ''\n '' '' '' '' '' '' '' '' '' '' '' '' '' '' '' '' '' '' '' '' '' '' '' ''\n '' '' '' '' '' '' '' '' '' '' '' '' '' '' '' '' '' '' '' '' '' '' '' ''\n '' '' '' '' '' '' '' '' '' '' '' '' '' '' '' '' '' '' '' '' '' '' '' ''\n '' '' '' '' '' '' '' '' '' '' '' '' '' '' '' '' '' '' '' '' '' '' '' ''\n '' '' '' '' '' '' '' '' '' '' '' '' '' '' '' '' '' '' '' '' '' '' '' ''\n '' '' '' '' '' '' '' '' '' '' '' '' '' '' '' '' '' '' '' '' '' '' '' ''\n '' '' '' '' '' '' '' '' '' '' '' '' '' '' '' '' '' '' '' '' '' '' '' ''\n '' '' '' '' '' '' '' '' '' '' '' '' '' '' '' '' '' '' '' '' '' '' '' ''\n '' '' '' '' '' '' '' '' '' '' '' '' '' '' '' '' '' '' '' '' '' '' '' ''\n '' '' '' '' '' '' '' '' '' '' '' '' '' '' '' '' '' '' '' '' '' '' '' ''\n '' '' '' '' '' '' '' '' '' '' '' '' '' '' '' '' '' '' '' '' '' '' '' ''\n '' '' '' '' '' '' '' '' '' '' '' '' '' '' '' '' '' '' '' '' '' '' '' ''\n '' '' '' '' '' '' '' '' '' '' '' '' '' '' '' '' '' '' '' '' '' '' '' ''\n '' '' '' '' '' '' '' '' '' '' '' '' '' '' '' '' '' '' '' '' '' '' '' ''\n '' '' '' '' '' '' '' '' '' '' '' '' '' '' '' '' '' '' '' '' '' '' '' ''\n '' '' '' '' '' '' '' '' '' '' '' '' '' '' '' '' '' '' '' '' '' '' '' ''\n '' '' '' '' '' '' '' '' '' '' '' '' '' '' '' '' '' '' '' '' '' '' '' ''\n '' '' '' '' '' '' '' '' '' '' '' '' '' '' '' '' '' '' '' '' '' '' '' ''\n '' '' '' '' '' '' '' '' '' '' '' '' '' '' '' '']\n"
    }
   ],
   "source": [
    "vec = np.vectorize(in_range)\n",
    "con = vec(raw_depth_data)\n",
    "print(con[lo+1,:])"
   ]
  },
  {
   "cell_type": "markdown",
   "metadata": {},
   "source": [
    "In order to make our algorithm as efficient as possible, we want to avoid for loops that run through every value of our data.  Flatten depth_data using np.flatten"
   ]
  },
  {
   "cell_type": "code",
   "execution_count": 242,
   "metadata": {},
   "outputs": [],
   "source": [
    "depth_data = depth_data.flatten()"
   ]
  },
  {
   "cell_type": "markdown",
   "metadata": {},
   "source": [
    "Now, because our array is one-dimensional, we want to be able to find the coordinates where our depth values are between lo_depth and u_depth.  By coordinates, we mean the x and y position where the depth value would be if it were a 2-dimensional array.  For example, if a value were at the position (2,3) in (rows, columns) of a 2D array with 5 rows and 4 columns, try to figure out what its position would be in a 1D array.  As in, if the 2D array were flattened, what single number would represent index (2,3) in our flattened array.  "
   ]
  },
  {
   "cell_type": "code",
   "execution_count": 243,
   "metadata": {},
   "outputs": [],
   "source": [
    "def get_coordinates(x,rows,cols):\n",
    "    r = int(x/cols)\n",
    "    c = x%cols\n",
    "    return(r,c)"
   ]
  },
  {
   "cell_type": "markdown",
   "metadata": {},
   "source": [
    "Using this example, extrapolate to the shape of raw_depth_data, the original 2D array, and figure out how to map the indices of raw_depth_data in a one dimensional array called 'coordinates'."
   ]
  },
  {
   "cell_type": "markdown",
   "metadata": {},
   "source": [
    "Now there are a variety of ways to filter a one dimensional array, but in any case, our filtering array of depth values will need to satisfy the condition of being between our set 'lo_depth' and 'u_depth' bounds."
   ]
  },
  {
   "cell_type": "markdown",
   "metadata": {},
   "source": [
    "First, find the values of the indices where the depth_data fits given upper and lower bounds, and wrap the resulting 1D list of values in a numpy array."
   ]
  },
  {
   "cell_type": "code",
   "execution_count": 244,
   "metadata": {},
   "outputs": [
    {
     "data": {
      "text/plain": "4508"
     },
     "execution_count": 244,
     "metadata": {},
     "output_type": "execute_result"
    }
   ],
   "source": [
    "#coordinates = [get_coorsinates(i) if lo_depth<=depth_data[i]<=u_depth else 0 for i in range(len(depth_data))]\n",
    "coordinates = [i for i in range(len(depth_data)) if lo_depth<=depth_data[i]<=u_depth]\n",
    "len(coordinates)"
   ]
  },
  {
   "cell_type": "markdown",
   "metadata": {},
   "source": [
    "Next, figure out how to filter 'depth_data' such that it is between 'lo_depth' and 'u_depth'"
   ]
  },
  {
   "cell_type": "code",
   "execution_count": 245,
   "metadata": {},
   "outputs": [],
   "source": [
    "filtered_depth_data = [i for i in depth_data if lo_depth<=i<=u_depth]"
   ]
  },
  {
   "cell_type": "markdown",
   "metadata": {},
   "source": [
    "Once we have filtered out depth values that are not within our set upper and lower bounds, compare the length of the raw_depth_data with depth_data to make sure that depth_data is in fact smaller.  When finding the length of raw_depth_data, consider that it is a 2D array with all rows being the same length and figure out how to calculate the total number of values in a 2D array."
   ]
  },
  {
   "cell_type": "code",
   "execution_count": 246,
   "metadata": {},
   "outputs": [
    {
     "name": "stdout",
     "output_type": "stream",
     "text": "length of raw data = 307200\nlength of filtered data = 4508\n630.0\n630.0\n"
    }
   ],
   "source": [
    "# Compare the lengths of depth_data with raw_depth_data.\n",
    "print(f'length of raw data = {len(depth_data)}')\n",
    "print(f'length of filtered data = {len(filtered_depth_data)}')\n",
    "\n",
    "print(filtered_depth_data[1000])\n",
    "print(depth_data[coordinates[1000]])"
   ]
  },
  {
   "cell_type": "markdown",
   "metadata": {},
   "source": [
    "Continue if your length of depth_data is considerably smaller than the number of values in raw_depth_data."
   ]
  },
  {
   "cell_type": "markdown",
   "metadata": {},
   "source": [
    "### Scaling Algorithm"
   ]
  },
  {
   "cell_type": "markdown",
   "metadata": {},
   "source": [
    "Now that we have created a 1D array that contains our filtered depth values, we want to scale our data in order to display it on a cube."
   ]
  },
  {
   "cell_type": "markdown",
   "metadata": {},
   "source": [
    "Let look at one method to scale any given object.  Given the image below, how would we map the water bottle?"
   ]
  },
  {
   "cell_type": "markdown",
   "metadata": {},
   "source": [
    "<img src=\"example_image.jpg\">"
   ]
  },
  {
   "cell_type": "markdown",
   "metadata": {},
   "source": [
    "Picture a 3D cube surrounding the water bottle.  In our scaling algorithm, this cube will have the width and height of largest axis of our object (in this case the y-axis/height), and the depth will be as given by our bounds.  Our original bounds for depth set above may not in fact capture this water bottle, but imagine that they do.  What we want to do is take our cube surrounding the water bottle and scale the cube into smaller numbers."
   ]
  },
  {
   "cell_type": "markdown",
   "metadata": {},
   "source": [
    "Essentially we are fixing new dimensions for our cube that ultimately enables us to map the image on a physical cube."
   ]
  },
  {
   "cell_type": "markdown",
   "metadata": {},
   "source": [
    "Now that we have some intuition for what we wish to accomplish with our scaling algorithm, lets figure out how to scale our cube into smaller dimensions. Lets review what our filtered data looks like."
   ]
  },
  {
   "cell_type": "code",
   "execution_count": 247,
   "metadata": {},
   "outputs": [
    {
     "data": {
      "text/plain": "array([2047., 2047., 2047., ..., 2047., 2047., 2047.])"
     },
     "execution_count": 247,
     "metadata": {},
     "output_type": "execute_result"
    }
   ],
   "source": [
    "depth_data"
   ]
  },
  {
   "cell_type": "markdown",
   "metadata": {},
   "source": [
    "Each value in our 1D array is a depth value representing the distance from the Kinect to whatever object you place in front of the Kinect."
   ]
  },
  {
   "cell_type": "markdown",
   "metadata": {},
   "source": [
    "First, lets find the x and y coordinates for each depth (z) value so that we can eventually transform our x, y, and z to the dimensions of the cube."
   ]
  },
  {
   "cell_type": "code",
   "execution_count": 248,
   "metadata": {},
   "outputs": [
    {
     "name": "stdout",
     "output_type": "stream",
     "text": "307200\n"
    },
    {
     "data": {
      "text/plain": "(479, 639)"
     },
     "execution_count": 248,
     "metadata": {},
     "output_type": "execute_result"
    }
   ],
   "source": [
    "x_arr = [get_coordinates(i, 480, 640)[1] for i in range(len(depth_data)) if lo_depth<=depth_data[i]<=u_depth]  # All the x-values (from 0 to 639) where depth_data fits the depth bounds\n",
    "y_arr =  [get_coordinates(i, 480, 640)[0] for i in range(len(depth_data)) if lo_depth<=depth_data[i]<=u_depth]  # All the y-values (from 0 to 479) where depth_data fits the depth bounds\n",
    "z_arr = [i for i in depth_data if lo_depth<=i<=u_depth]  # All the z or depth values (11-bit) where depth_data fits the depth bounds\n",
    "#print(x_arr)\n",
    "print(len(depth_data))\n",
    "get_coordinates(307199, 480,640)"
   ]
  },
  {
   "cell_type": "markdown",
   "metadata": {},
   "source": [
    "\n",
    "\n",
    "\n",
    "\n",
    "\n",
    "\n",
    "\n",
    "\n",
    "\n",
    "\n",
    "\n",
    "\n",
    "\n",
    "\n",
    "\n",
    "\n",
    "\n",
    "\n",
    "\n",
    "\n",
    "\n",
    "\n",
    "\n",
    "\n",
    "\n",
    "\n",
    "\n",
    "\n",
    "\n",
    "\n",
    "\n",
    "\n",
    "\n",
    "\n",
    "\n",
    "\n",
    "\n",
    "\n",
    "\n",
    "\n",
    "\n",
    "\n",
    "\n",
    "\n",
    "\n",
    "\n",
    "\n",
    "\n",
    "\n",
    "\n",
    "\n",
    "\n",
    "\n",
    "\n",
    "\n",
    "\n",
    "\n",
    "\n",
    "\n",
    "\n",
    "\n",
    "\n",
    "\n",
    "\n",
    "\n",
    "\n",
    "\n",
    "\n",
    "\n",
    "\n",
    "\n",
    "\n",
    "\n",
    "\n",
    "\n",
    "\n",
    "\n",
    "\n",
    "\n",
    "\n",
    "\n",
    "\n",
    "\n",
    "\n",
    "\n",
    "\n",
    "\n",
    "\n",
    "\n",
    "\n",
    "\n",
    "\n",
    "\n",
    "\n",
    "\n",
    "\n",
    "\n",
    "\n",
    "\n",
    "\n",
    "\n",
    "\n",
    "We will store the depth data under a new variable to be used in visualizing the data later.  This will be done by creating a list of tuples using [set()](https://docs.python.org/2/library/sets.html) and [zip()](https://docs.python.org/3/library/functions.html#zip) functions."
   ]
  },
  {
   "cell_type": "code",
   "execution_count": 249,
   "metadata": {},
   "outputs": [
    {
     "data": {
      "text/plain": "4508"
     },
     "execution_count": 249,
     "metadata": {},
     "output_type": "execute_result"
    }
   ],
   "source": [
    "raw_tuple_depth = list(zip(x_arr,y_arr,z_arr))\n",
    "len(raw_tuple_depth) "
   ]
  },
  {
   "cell_type": "markdown",
   "metadata": {},
   "source": [
    "Find bounds for each dimension (x, y, z) and store them under new variables."
   ]
  },
  {
   "cell_type": "code",
   "execution_count": 374,
   "metadata": {},
   "outputs": [
    {
     "name": "stdout",
     "output_type": "stream",
     "text": "390 0 170 408 635.0 589.0\n"
    }
   ],
   "source": [
    "r = max(x_arr)   # Rightmost x-value\n",
    "le = min(x_arr)  # Leftmost x-value\n",
    "u = min(y_arr)   # Upper or smallest y-value\n",
    "lo = max(y_arr)  # Lower or largest y-value\n",
    "b = max(z_arr)   # Maximum z-value\n",
    "f = min(z_arr)   # Minimum z-value\n",
    "print(r,le,u,lo,b,f)"
   ]
  },
  {
   "cell_type": "markdown",
   "metadata": {},
   "source": [
    "We can now use the bounds of our object to scale our data.  Here is what this would look like in our example image:"
   ]
  },
  {
   "cell_type": "markdown",
   "metadata": {},
   "source": [
    "<img src=\"example_image_pt2.jpg\">"
   ]
  },
  {
   "cell_type": "markdown",
   "metadata": {},
   "source": [
    "raw_tuple_depth = ...\n",
    "raw_tuple_depth"
   ]
  },
  {
   "cell_type": "code",
   "execution_count": 251,
   "metadata": {},
   "outputs": [
    {
     "name": "stdout",
     "output_type": "stream",
     "text": "390\n238\n"
    }
   ],
   "source": [
    "x_range = r-le  # potential legnth of cube\n",
    "y_range = lo-u  # potential length of cube\n",
    "print(x_range)\n",
    "print(y_range)"
   ]
  },
  {
   "cell_type": "markdown",
   "metadata": {},
   "source": [
    "Looking at the image above, it intuitively makes sense to map our object by forming a square around the largest range between x and y.  In this case the y-range is largest."
   ]
  },
  {
   "cell_type": "code",
   "execution_count": 252,
   "metadata": {},
   "outputs": [
    {
     "name": "stdout",
     "output_type": "stream",
     "text": "390\n195 289\n"
    }
   ],
   "source": [
    "max_range = max(x_range, y_range)   # find the maximum range between x and y.  A square will be formed around the maximum range which our object will be placed in\n",
    "x_mid = int(le + x_range/2)    # calculate the midpoint of the x-axis of the object\n",
    "y_mid = int(u + y_range/2)    # calculate the midpoint of the y-axis of the object\n",
    "print(x_range)\n",
    "print(x_mid, y_mid)"
   ]
  },
  {
   "cell_type": "code",
   "execution_count": 253,
   "metadata": {},
   "outputs": [
    {
     "data": {
      "text/plain": "289"
     },
     "execution_count": 253,
     "metadata": {},
     "output_type": "execute_result"
    }
   ],
   "source": [
    "y_mid"
   ]
  },
  {
   "cell_type": "code",
   "execution_count": 254,
   "metadata": {},
   "outputs": [
    {
     "data": {
      "text/plain": "195.0"
     },
     "execution_count": 254,
     "metadata": {},
     "output_type": "execute_result"
    }
   ],
   "source": [
    "x_half = x_range / 2  # half of the x_range of the object\n",
    "x_half"
   ]
  },
  {
   "cell_type": "markdown",
   "metadata": {},
   "source": [
    "Create a conditional below that will change upper bounds (u) or left bounds (le) based on if the x_range is larger or if the y_range is larger, respectively.  You can see what this will accomplish in the image below."
   ]
  },
  {
   "cell_type": "code",
   "execution_count": 255,
   "metadata": {},
   "outputs": [
    {
     "name": "stdout",
     "output_type": "stream",
     "text": "0 94.0\n289 390 195.0\n"
    }
   ],
   "source": [
    "# Make an if else statement\n",
    "if x_range>y_range:\n",
    "    u = y_mid-max_range/2\n",
    "else:\n",
    "    le = x_mid-max_range/2\n",
    "print(le,u)\n",
    "print(y_mid, max_range, max_range/2)"
   ]
  },
  {
   "cell_type": "markdown",
   "metadata": {},
   "source": [
    "Here is what our x-y mapping should look like:"
   ]
  },
  {
   "cell_type": "markdown",
   "metadata": {},
   "source": [
    "<img src=\"example_image_pt3.jpg\">"
   ]
  },
  {
   "cell_type": "markdown",
   "metadata": {},
   "source": [
    "As for the z_range of our cube, we will use the distance between 'u_depth' and 'lo_depth'."
   ]
  },
  {
   "cell_type": "code",
   "execution_count": 359,
   "metadata": {},
   "outputs": [],
   "source": [
    "z_range = u_depth - lo_depth"
   ]
  },
  {
   "cell_type": "code",
   "execution_count": 360,
   "metadata": {},
   "outputs": [
    {
     "data": {
      "text/plain": "111.53926541614692"
     },
     "execution_count": 360,
     "metadata": {},
     "output_type": "execute_result"
    }
   ],
   "source": [
    "z_range"
   ]
  },
  {
   "cell_type": "markdown",
   "metadata": {},
   "source": [
    "Create a variable 'cube_length' that will represent the length of our cube for this project."
   ]
  },
  {
   "cell_type": "code",
   "execution_count": 361,
   "metadata": {},
   "outputs": [],
   "source": [
    "cube_length = 6"
   ]
  },
  {
   "cell_type": "markdown",
   "metadata": {},
   "source": [
    "Now we have all the components we need to scale 'depth_data' into our cube's values.  The resulting x, y, and z arrays should have values between 0 and the cube_length."
   ]
  },
  {
   "cell_type": "markdown",
   "metadata": {},
   "source": [
    "Try drawing a picture for this section to figure out how to scale our 3D cube from one set of dimensions into another.  Consider the picture above."
   ]
  },
  {
   "cell_type": "markdown",
   "metadata": {},
   "source": [
    "Variables 'x_new', 'y_new', and 'z_new' will represent our x, y, and z values in the dimensions of our cube. Ideally, we want to create these arrays using matrix manipulation allowed by numpy.  This means creating arrays and applying arithmetic operations on them to avoid using for loops.  This will make our algorithm much more efficient."
   ]
  },
  {
   "cell_type": "markdown",
   "metadata": {},
   "source": [
    "Hint: You will need to create additional variables below to scale the arrays and avoid for loops.  [This](https://www.pluralsight.com/guides/overview-basic-numpy-operations) article details how to apply arithmetic operations between numpy arrays."
   ]
  },
  {
   "cell_type": "code",
   "execution_count": 381,
   "metadata": {},
   "outputs": [
    {
     "data": {
      "text/plain": "390"
     },
     "execution_count": 381,
     "metadata": {},
     "output_type": "execute_result"
    }
   ],
   "source": [
    "x_range"
   ]
  },
  {
   "cell_type": "code",
   "execution_count": 426,
   "metadata": {},
   "outputs": [
    {
     "data": {
      "text/plain": "array([308.89230769, 308.18461538, 307.53846154, 309.        ,\n       308.66153846, 310.73846154])"
     },
     "execution_count": 426,
     "metadata": {},
     "output_type": "execute_result"
    }
   ],
   "source": [
    "widthOfBins = int(x_range/cube_length)\n",
    "x_mtx = np.asarray(x_arr[le:le+max_range])\n",
    "x_mtx = x_mtx.reshape(6,widthOfBins)\n",
    "x_avg = np.average(x_mtx, axis=1)\n",
    "x_avg"
   ]
  },
  {
   "cell_type": "code",
   "execution_count": 425,
   "metadata": {},
   "outputs": [
    {
     "name": "stdout",
     "output_type": "stream",
     "text": "[4 4 4 4 4 4]\n"
    }
   ],
   "source": [
    "x_new = np.divide(x_avg, x_range/cube_length)\n",
    "print(x_new.astype(int))"
   ]
  },
  {
   "cell_type": "code",
   "execution_count": 382,
   "metadata": {},
   "outputs": [],
   "source": [
    "# Create arrays x_new, y_new, and z_new that represent the x, y, and z values of our cube\n",
    "y_new = ...\n",
    "z_new = ... "
   ]
  },
  {
   "cell_type": "markdown",
   "metadata": {},
   "source": [
    "We will now be able to create our array of values that will map our object by combining x_new, y_new, and z_new arrays.  The output will be a list of tuples."
   ]
  },
  {
   "cell_type": "code",
   "execution_count": 0,
   "metadata": {},
   "outputs": [],
   "source": [
    "filtered_depth = ...\n",
    "filtered_depth"
   ]
  },
  {
   "cell_type": "markdown",
   "metadata": {},
   "source": [
    "As a final check, make sure that the sets of your x, y, and z arrays are within the values 0 to the length of the cube."
   ]
  },
  {
   "cell_type": "code",
   "execution_count": null,
   "metadata": {},
   "outputs": [],
   "source": []
  },
  {
   "cell_type": "markdown",
   "metadata": {},
   "source": [
    "# Visualizing Data"
   ]
  },
  {
   "cell_type": "markdown",
   "metadata": {},
   "source": [
    "In this section we will be using sklearn.cluster and plotly to visualize our data."
   ]
  },
  {
   "cell_type": "code",
   "execution_count": 0,
   "metadata": {},
   "outputs": [],
   "source": [
    "# Make sure you have these following packages installed\n",
    "#from sklearn.cluster import SpectralClustering, KMeans\n",
    "import plotly.offline as py\n",
    "from plotly import graph_objs as go"
   ]
  },
  {
   "cell_type": "markdown",
   "metadata": {},
   "source": [
    "Lets look at our raw_tuple_depth variable we created earlier.  We will first visualize our raw data and compare that to our mapped data."
   ]
  },
  {
   "cell_type": "code",
   "execution_count": 0,
   "metadata": {},
   "outputs": [],
   "source": [
    "raw_tuple_depth"
   ]
  },
  {
   "cell_type": "markdown",
   "metadata": {},
   "source": [
    "Put the name of your fi"
   ]
  },
  {
   "cell_type": "code",
   "execution_count": 0,
   "metadata": {},
   "outputs": [],
   "source": [
    "#plots = []\n",
    "x, y, z = raw_tuple_depth[:, 0], raw_tuple_depth[:, 1], raw_tuple_depth[:, 2]\n",
    "plots = [go.Scatter3d(x=x, y=y, z=z, mode='markers', marker=dict(size=2), connectgaps=False)] #,color=c[k]\n",
    "\n",
    "file_name = ...  #the name of your file\n",
    "py.plot(plots,filename=file_name,auto_open=True)"
   ]
  },
  {
   "cell_type": "markdown",
   "metadata": {},
   "source": [
    "Now lets look at our updated 'filtered_depth'."
   ]
  },
  {
   "cell_type": "code",
   "execution_count": 0,
   "metadata": {},
   "outputs": [],
   "source": [
    "x, y, z = filtered_depth[:, 0], filtered_depth[:, 1], filtered_depth[:, 2]\n",
    "plots = [go.Scatter3d(x=x, y=y, z=z, mode='markers', marker=dict(size=2), connectgaps=False)]\n",
    "file_name = ... #the name of your file\n",
    "py.plot(plots,filename=file_name,auto_open=True)"
   ]
  },
  {
   "cell_type": "markdown",
   "metadata": {},
   "source": [
    "** If you want more information as to how these plots were generated, refer to [plotly](https://plot.ly/python/user-guide/) documentation"
   ]
  }
 ],
 "metadata": {
  "kernelspec": {
   "display_name": "Python 3.7.0 64-bit",
   "language": "python",
   "name": "python37064bit6b0925a7eebf447b8c6a59698acf913d"
  },
  "language_info": {
   "codemirror_mode": {
    "name": "ipython",
    "version": 3
   },
   "file_extension": ".py",
   "mimetype": "text/x-python",
   "name": "python",
   "nbconvert_exporter": "python",
   "pygments_lexer": "ipython3",
   "version": "3.7.0-final"
  }
 },
 "nbformat": 4,
 "nbformat_minor": 2
}